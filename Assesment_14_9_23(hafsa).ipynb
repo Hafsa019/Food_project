{
  "cells": [
    {
      "cell_type": "code",
      "execution_count": 1,
      "metadata": {
        "colab": {
          "base_uri": "https://localhost:8080/"
        },
        "id": "8sSsFh-8FJcI",
        "outputId": "8b12e278-5460-40b2-9c37-212f9a2fda57"
      },
      "outputs": [
        {
          "output_type": "stream",
          "name": "stdout",
          "text": [
            "Drive already mounted at /content/drive; to attempt to forcibly remount, call drive.mount(\"/content/drive\", force_remount=True).\n"
          ]
        }
      ],
      "source": [
        "from google.colab import drive\n",
        "drive.mount('/content/drive')"
      ]
    },
    {
      "cell_type": "code",
      "execution_count": 2,
      "metadata": {
        "id": "gF2dOsgwFJff"
      },
      "outputs": [],
      "source": [
        "import os\n",
        "os.environ['KAGGLE_CONFIG_DIR'] = \"/content/drive/MyDrive/kaggle\""
      ]
    },
    {
      "cell_type": "code",
      "execution_count": 3,
      "metadata": {
        "colab": {
          "base_uri": "https://localhost:8080/"
        },
        "id": "3fcw68lhHArX",
        "outputId": "bba81961-eabe-4b30-dc4a-84d91ec4166b"
      },
      "outputs": [
        {
          "output_type": "stream",
          "name": "stdout",
          "text": [
            "/content/drive/MyDrive/kaggle\n"
          ]
        }
      ],
      "source": [
        "%cd /content/drive/MyDrive/kaggle/"
      ]
    },
    {
      "cell_type": "code",
      "execution_count": 4,
      "metadata": {
        "colab": {
          "base_uri": "https://localhost:8080/"
        },
        "id": "wQDpxgGJH_wY",
        "outputId": "851504ff-7e6b-487f-d47b-d7cbbbed336b"
      },
      "outputs": [
        {
          "output_type": "stream",
          "name": "stdout",
          "text": [
            "Downloading food11.zip to /content/drive/MyDrive/kaggle\n",
            " 99% 516M/519M [00:14<00:00, 37.3MB/s]\n",
            "100% 519M/519M [00:14<00:00, 37.8MB/s]\n"
          ]
        }
      ],
      "source": [
        "!kaggle datasets download -d imbikramsaha/food11 --unzip\n"
      ]
    },
    {
      "cell_type": "code",
      "execution_count": 39,
      "metadata": {
        "id": "2GMzXPEuJvfQ"
      },
      "outputs": [],
      "source": [
        "from tensorflow.keras import layers\n",
        "from tensorflow.keras import models\n",
        "model = models.Sequential()\n",
        "model.add(layers.Conv2D(32, (3, 3), activation='relu',input_shape=(150, 150, 3)))\n",
        "model.add(layers.MaxPooling2D((2, 2)))\n",
        "\n",
        "model.add(layers.Conv2D(64, (3, 3), activation='relu'))\n",
        "model.add(layers.MaxPooling2D((2, 2)))\n",
        "\n",
        "model.add(layers.Conv2D(128, (3, 3), activation='relu'))\n",
        "model.add(layers.MaxPooling2D((2, 2)))\n",
        "\n",
        "model.add(layers.Conv2D(128, (3, 3), activation='relu'))\n",
        "model.add(layers.MaxPooling2D((2, 2)))\n",
        "\n",
        "model.add(layers.Flatten())\n",
        "model.add(layers.Dense(512, activation='relu'))\n",
        "model.add(layers.Dense(11, activation='softmax'))"
      ]
    },
    {
      "cell_type": "code",
      "execution_count": 40,
      "metadata": {
        "colab": {
          "base_uri": "https://localhost:8080/"
        },
        "id": "RMts8g73Jvho",
        "outputId": "896be1c0-7c92-4fca-b5bc-4f950dca8d69"
      },
      "outputs": [
        {
          "output_type": "stream",
          "name": "stdout",
          "text": [
            "Model: \"sequential_2\"\n",
            "_________________________________________________________________\n",
            " Layer (type)                Output Shape              Param #   \n",
            "=================================================================\n",
            " conv2d_8 (Conv2D)           (None, 148, 148, 32)      896       \n",
            "                                                                 \n",
            " max_pooling2d_8 (MaxPoolin  (None, 74, 74, 32)        0         \n",
            " g2D)                                                            \n",
            "                                                                 \n",
            " conv2d_9 (Conv2D)           (None, 72, 72, 64)        18496     \n",
            "                                                                 \n",
            " max_pooling2d_9 (MaxPoolin  (None, 36, 36, 64)        0         \n",
            " g2D)                                                            \n",
            "                                                                 \n",
            " conv2d_10 (Conv2D)          (None, 34, 34, 128)       73856     \n",
            "                                                                 \n",
            " max_pooling2d_10 (MaxPooli  (None, 17, 17, 128)       0         \n",
            " ng2D)                                                           \n",
            "                                                                 \n",
            " conv2d_11 (Conv2D)          (None, 15, 15, 128)       147584    \n",
            "                                                                 \n",
            " max_pooling2d_11 (MaxPooli  (None, 7, 7, 128)         0         \n",
            " ng2D)                                                           \n",
            "                                                                 \n",
            " flatten_2 (Flatten)         (None, 6272)              0         \n",
            "                                                                 \n",
            " dense_4 (Dense)             (None, 512)               3211776   \n",
            "                                                                 \n",
            " dense_5 (Dense)             (None, 11)                5643      \n",
            "                                                                 \n",
            "=================================================================\n",
            "Total params: 3458251 (13.19 MB)\n",
            "Trainable params: 3458251 (13.19 MB)\n",
            "Non-trainable params: 0 (0.00 Byte)\n",
            "_________________________________________________________________\n"
          ]
        }
      ],
      "source": [
        "model.summary()"
      ]
    },
    {
      "cell_type": "code",
      "execution_count": 41,
      "metadata": {
        "colab": {
          "base_uri": "https://localhost:8080/"
        },
        "id": "V-opmM6LJvko",
        "outputId": "d5391632-b583-426a-b9be-3e3bab382d03"
      },
      "outputs": [
        {
          "output_type": "stream",
          "name": "stderr",
          "text": [
            "WARNING:absl:`lr` is deprecated in Keras optimizer, please use `learning_rate` or use the legacy optimizer, e.g.,tf.keras.optimizers.legacy.RMSprop.\n"
          ]
        }
      ],
      "source": [
        "from tensorflow.keras import optimizers\n",
        "model.compile(loss='categorical_crossentropy',optimizer=optimizers.RMSprop(lr=1e-4),metrics=['acc'])"
      ]
    },
    {
      "cell_type": "code",
      "execution_count": 42,
      "metadata": {
        "id": "hfnWxXDuSSER"
      },
      "outputs": [],
      "source": [
        "from tensorflow.keras.preprocessing.image import ImageDataGenerator"
      ]
    },
    {
      "cell_type": "code",
      "execution_count": 43,
      "metadata": {
        "id": "P7iAfanfSUvo"
      },
      "outputs": [],
      "source": [
        "train_datagen = ImageDataGenerator(rescale=1./255)\n",
        "test_datagen = ImageDataGenerator(rescale=1./255)"
      ]
    },
    {
      "cell_type": "code",
      "execution_count": 44,
      "metadata": {
        "colab": {
          "base_uri": "https://localhost:8080/"
        },
        "id": "JkljspLhSWVf",
        "outputId": "ed917907-0959-42bb-bd30-2968f32f9838"
      },
      "outputs": [
        {
          "output_type": "stream",
          "name": "stdout",
          "text": [
            "Found 9900 images belonging to 11 classes.\n"
          ]
        }
      ],
      "source": [
        "train_generator = train_datagen.flow_from_directory(\n",
        "                                '/content/drive/MyDrive/kaggle/food11/train',\n",
        "                                target_size=(150, 150),\n",
        "                                batch_size=20,\n",
        "                                class_mode='categorical')"
      ]
    },
    {
      "cell_type": "code",
      "source": [
        "test_generator = test_datagen.flow_from_directory(\n",
        "                                '/content/drive/MyDrive/kaggle/food11/test',\n",
        "                                target_size=(150, 150),\n",
        "                                batch_size=20,\n",
        "                                class_mode='categorical')"
      ],
      "metadata": {
        "colab": {
          "base_uri": "https://localhost:8080/"
        },
        "id": "feW6wAs9JaC8",
        "outputId": "093fba3f-d90b-44c0-d74e-37d5953a9f9e"
      },
      "execution_count": 45,
      "outputs": [
        {
          "output_type": "stream",
          "name": "stdout",
          "text": [
            "Found 1100 images belonging to 11 classes.\n"
          ]
        }
      ]
    },
    {
      "cell_type": "code",
      "execution_count": 46,
      "metadata": {
        "colab": {
          "base_uri": "https://localhost:8080/"
        },
        "id": "PzFvCWkMTIBw",
        "outputId": "ce7a533c-ab24-40c1-db9a-6f3244770f25"
      },
      "outputs": [
        {
          "output_type": "stream",
          "name": "stdout",
          "text": [
            "Epoch 1/30\n"
          ]
        },
        {
          "output_type": "stream",
          "name": "stderr",
          "text": [
            "<ipython-input-46-4951c17b68c4>:1: UserWarning: `Model.fit_generator` is deprecated and will be removed in a future version. Please use `Model.fit`, which supports generators.\n",
            "  history = model.fit_generator(  train_generator,\n"
          ]
        },
        {
          "output_type": "stream",
          "name": "stdout",
          "text": [
            "10/10 [==============================] - 13s 1s/step - loss: 2.4748 - acc: 0.0900\n",
            "Epoch 2/30\n",
            "10/10 [==============================] - 10s 908ms/step - loss: 2.3958 - acc: 0.0850\n",
            "Epoch 3/30\n",
            "10/10 [==============================] - 12s 1s/step - loss: 2.3837 - acc: 0.1300\n",
            "Epoch 4/30\n",
            "10/10 [==============================] - 12s 1s/step - loss: 2.3938 - acc: 0.0600\n",
            "Epoch 5/30\n",
            "10/10 [==============================] - 9s 924ms/step - loss: 2.3918 - acc: 0.1200\n",
            "Epoch 6/30\n",
            "10/10 [==============================] - 11s 989ms/step - loss: 2.3858 - acc: 0.1350\n",
            "Epoch 7/30\n",
            "10/10 [==============================] - 12s 1s/step - loss: 2.3478 - acc: 0.1250\n",
            "Epoch 8/30\n",
            "10/10 [==============================] - 12s 1s/step - loss: 2.3535 - acc: 0.1300\n",
            "Epoch 9/30\n",
            "10/10 [==============================] - 11s 1s/step - loss: 2.3001 - acc: 0.1650\n",
            "Epoch 10/30\n",
            "10/10 [==============================] - 12s 1s/step - loss: 2.3368 - acc: 0.1150\n",
            "Epoch 11/30\n",
            "10/10 [==============================] - 11s 976ms/step - loss: 2.3580 - acc: 0.1500\n",
            "Epoch 12/30\n",
            "10/10 [==============================] - 12s 1s/step - loss: 2.3546 - acc: 0.1200\n",
            "Epoch 13/30\n",
            "10/10 [==============================] - 9s 916ms/step - loss: 2.3695 - acc: 0.1350\n",
            "Epoch 14/30\n",
            "10/10 [==============================] - 11s 1s/step - loss: 2.3427 - acc: 0.1400\n",
            "Epoch 15/30\n",
            "10/10 [==============================] - 10s 1s/step - loss: 2.3222 - acc: 0.1700\n",
            "Epoch 16/30\n",
            "10/10 [==============================] - 10s 941ms/step - loss: 2.3273 - acc: 0.1450\n",
            "Epoch 17/30\n",
            "10/10 [==============================] - 12s 1s/step - loss: 2.2855 - acc: 0.1500\n",
            "Epoch 18/30\n",
            "10/10 [==============================] - 11s 1s/step - loss: 2.2659 - acc: 0.1350\n",
            "Epoch 19/30\n",
            "10/10 [==============================] - 11s 1s/step - loss: 2.3069 - acc: 0.1450\n",
            "Epoch 20/30\n",
            "10/10 [==============================] - 11s 1s/step - loss: 2.3068 - acc: 0.1800\n",
            "Epoch 21/30\n",
            "10/10 [==============================] - 12s 1s/step - loss: 2.3092 - acc: 0.1750\n",
            "Epoch 22/30\n",
            "10/10 [==============================] - 9s 932ms/step - loss: 2.3230 - acc: 0.1500\n",
            "Epoch 23/30\n",
            "10/10 [==============================] - 11s 1s/step - loss: 2.3443 - acc: 0.1950\n",
            "Epoch 24/30\n",
            "10/10 [==============================] - 11s 1s/step - loss: 2.2505 - acc: 0.1950\n",
            "Epoch 25/30\n",
            "10/10 [==============================] - 10s 911ms/step - loss: 2.2426 - acc: 0.1650\n",
            "Epoch 26/30\n",
            "10/10 [==============================] - 11s 1s/step - loss: 2.2569 - acc: 0.1950\n",
            "Epoch 27/30\n",
            "10/10 [==============================] - 9s 914ms/step - loss: 2.2601 - acc: 0.2050\n",
            "Epoch 28/30\n",
            "10/10 [==============================] - 12s 1s/step - loss: 2.2832 - acc: 0.1800\n",
            "Epoch 29/30\n",
            "10/10 [==============================] - 10s 1s/step - loss: 2.2102 - acc: 0.2450\n",
            "Epoch 30/30\n",
            "10/10 [==============================] - 10s 917ms/step - loss: 2.2334 - acc: 0.2100\n"
          ]
        }
      ],
      "source": [
        "history = model.fit_generator(  train_generator,\n",
        "                                steps_per_epoch=10,\n",
        "                                epochs=30,\n",
        "                                )\n"
      ]
    },
    {
      "cell_type": "code",
      "execution_count": 47,
      "metadata": {
        "id": "R24-wRo9m_Re",
        "colab": {
          "base_uri": "https://localhost:8080/"
        },
        "outputId": "c8bf4d8a-4157-4eff-e844-96f8b8ad99b5"
      },
      "outputs": [
        {
          "output_type": "stream",
          "name": "stdout",
          "text": [
            "55/55 [==============================] - 18s 331ms/step - loss: 2.2196 - acc: 0.1945\n"
          ]
        }
      ],
      "source": [
        "y_test = model.evaluate(test_generator)"
      ]
    },
    {
      "cell_type": "code",
      "source": [
        "y_pred=model.predict(test_generator)"
      ],
      "metadata": {
        "colab": {
          "base_uri": "https://localhost:8080/"
        },
        "id": "PEi7mWe0NsZq",
        "outputId": "12c39c0b-cbe3-43e3-dcbf-e295dfa58b6d"
      },
      "execution_count": 48,
      "outputs": [
        {
          "output_type": "stream",
          "name": "stdout",
          "text": [
            "55/55 [==============================] - 19s 334ms/step\n"
          ]
        }
      ]
    },
    {
      "cell_type": "code",
      "source": [
        "y_pred"
      ],
      "metadata": {
        "colab": {
          "base_uri": "https://localhost:8080/"
        },
        "id": "_qkMmukyNsjB",
        "outputId": "ad2af538-fdce-47ba-f610-51ddc9f8d217"
      },
      "execution_count": 49,
      "outputs": [
        {
          "output_type": "execute_result",
          "data": {
            "text/plain": [
              "array([[0.0522987 , 0.16871281, 0.03781252, ..., 0.02490049, 0.07963995,\n",
              "        0.16672723],\n",
              "       [0.11681759, 0.06000496, 0.09944329, ..., 0.11507086, 0.06031372,\n",
              "        0.04362621],\n",
              "       [0.12399451, 0.06857459, 0.07664493, ..., 0.09688164, 0.06320811,\n",
              "        0.05780069],\n",
              "       ...,\n",
              "       [0.09073833, 0.06799158, 0.06501636, ..., 0.0792041 , 0.08722492,\n",
              "        0.0791221 ],\n",
              "       [0.12011901, 0.01463434, 0.29290324, ..., 0.06904518, 0.10281953,\n",
              "        0.04084126],\n",
              "       [0.02424019, 0.68436116, 0.02095145, ..., 0.02226127, 0.05079771,\n",
              "        0.04569154]], dtype=float32)"
            ]
          },
          "metadata": {},
          "execution_count": 49
        }
      ]
    },
    {
      "cell_type": "code",
      "source": [
        "len(y_pred)"
      ],
      "metadata": {
        "colab": {
          "base_uri": "https://localhost:8080/"
        },
        "id": "Lr4rI6_xN7Sg",
        "outputId": "e2e55d04-af44-48dc-9a9e-e312dc78155b"
      },
      "execution_count": 50,
      "outputs": [
        {
          "output_type": "execute_result",
          "data": {
            "text/plain": [
              "1100"
            ]
          },
          "metadata": {},
          "execution_count": 50
        }
      ]
    },
    {
      "cell_type": "code",
      "source": [
        "import numpy as np\n",
        "\n",
        "Y_pred=np.argmax(y_pred,axis=1)"
      ],
      "metadata": {
        "id": "1kKZhOoTOCNw"
      },
      "execution_count": 52,
      "outputs": []
    },
    {
      "cell_type": "code",
      "source": [
        "Y_pred\n"
      ],
      "metadata": {
        "colab": {
          "base_uri": "https://localhost:8080/"
        },
        "id": "aQgWCsHxOX5f",
        "outputId": "b082665e-db46-4fa0-ff60-638772e5d159"
      },
      "execution_count": 53,
      "outputs": [
        {
          "output_type": "execute_result",
          "data": {
            "text/plain": [
              "array([7, 6, 6, ..., 6, 2, 1])"
            ]
          },
          "metadata": {},
          "execution_count": 53
        }
      ]
    },
    {
      "cell_type": "code",
      "source": [
        "len(Y_pred)"
      ],
      "metadata": {
        "colab": {
          "base_uri": "https://localhost:8080/"
        },
        "id": "Q_YTGsbvOg7H",
        "outputId": "7eb7c04b-4e68-4adb-ff4a-af2262161a23"
      },
      "execution_count": 54,
      "outputs": [
        {
          "output_type": "execute_result",
          "data": {
            "text/plain": [
              "1100"
            ]
          },
          "metadata": {},
          "execution_count": 54
        }
      ]
    },
    {
      "cell_type": "code",
      "source": [
        "from sklearn.metrics import classification_report, confusion_matrix\n",
        "import seaborn as sn\n",
        "import pandas as pd\n",
        "import matplotlib as plt\n",
        "\n",
        "print('Classification Report')\n",
        "target_names = list(test_generator.class_indices.keys())\n",
        "print(classification_report(test_generator.classes, Y_pred, target_names=target_names))\n",
        "print('Confusion Matrix')\n",
        "conf_mat = confusion_matrix(test_generator.classes, Y_pred)\n",
        "df_cm = pd.DataFrame(conf_mat, index = target_names, columns = target_names)\n",
        "sn.heatmap(df_cm, annot=True)"
      ],
      "metadata": {
        "colab": {
          "base_uri": "https://localhost:8080/",
          "height": 899
        },
        "id": "srgpBfDuPIhp",
        "outputId": "e9890e38-50ba-4560-db1e-6ff212b9b247"
      },
      "execution_count": 55,
      "outputs": [
        {
          "output_type": "stream",
          "name": "stdout",
          "text": [
            "Classification Report\n",
            "               precision    recall  f1-score   support\n",
            "\n",
            "    apple_pie       0.12      0.02      0.03       100\n",
            "   cheesecake       0.11      0.14      0.13       100\n",
            "chicken_curry       0.07      0.17      0.10       100\n",
            " french_fries       0.09      0.03      0.04       100\n",
            "   fried_rice       0.33      0.03      0.06       100\n",
            "    hamburger       0.19      0.11      0.14       100\n",
            "      hot_dog       0.09      0.16      0.11       100\n",
            "    ice_cream       0.07      0.20      0.10       100\n",
            "     omelette       0.13      0.12      0.12       100\n",
            "        pizza       0.10      0.04      0.06       100\n",
            "        sushi       0.12      0.02      0.03       100\n",
            "\n",
            "     accuracy                           0.09      1100\n",
            "    macro avg       0.13      0.09      0.08      1100\n",
            " weighted avg       0.13      0.09      0.08      1100\n",
            "\n",
            "Confusion Matrix\n"
          ]
        },
        {
          "output_type": "execute_result",
          "data": {
            "text/plain": [
              "<Axes: >"
            ]
          },
          "metadata": {},
          "execution_count": 55
        },
        {
          "output_type": "display_data",
          "data": {
            "text/plain": [
              "<Figure size 640x480 with 2 Axes>"
            ],
            "image/png": "[encoded data removed]"
          },
          "metadata": {}
        }
      ]
    }
  ],
  "metadata": {
    "colab": {
      "provenance": []
    },
    "kernelspec": {
      "display_name": "Python 3",
      "name": "python3"
    },
    "language_info": {
      "name": "python"
    }
  },
  "nbformat": 4,
  "nbformat_minor": 0
}